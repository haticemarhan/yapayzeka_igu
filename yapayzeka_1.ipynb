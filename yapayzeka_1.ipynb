{
  "nbformat": 4,
  "nbformat_minor": 0,
  "metadata": {
    "colab": {
      "provenance": []
    },
    "kernelspec": {
      "name": "python3",
      "display_name": "Python 3"
    },
    "language_info": {
      "name": "python"
    }
  },
  "cells": [
    {
      "cell_type": "markdown",
      "source": [
        "IGU MYO YAPAY ZEKA DERSI 30.09.2024 - Ders Notu\n",
        "\n",
        "Ogr. Hatice Nur Marhan"
      ],
      "metadata": {
        "id": "Osj7G5MnCIk6"
      }
    },
    {
      "cell_type": "code",
      "execution_count": 1,
      "metadata": {
        "colab": {
          "base_uri": "https://localhost:8080/"
        },
        "id": "DfPLYn_yBeUv",
        "outputId": "396e9d21-483f-42d8-8ef5-8486f65e0e40"
      },
      "outputs": [
        {
          "output_type": "stream",
          "name": "stdout",
          "text": [
            "Merhaba IGU MYO YAPAY ZEKA\n"
          ]
        }
      ],
      "source": [
        "print(\"Merhaba IGU MYO YAPAY ZEKA\") # ilk phyton programi ciktisidir."
      ]
    },
    {
      "cell_type": "code",
      "source": [
        "import sys # import phyton programlama dilinde yazılıma kutuphane eklemeye yarayacak.\n",
        "print(sys.version)"
      ],
      "metadata": {
        "colab": {
          "base_uri": "https://localhost:8080/"
        },
        "id": "LegBUV-IFwQc",
        "outputId": "fda872f0-72bc-47c3-cfc4-77b64846b0e0"
      },
      "execution_count": 2,
      "outputs": [
        {
          "output_type": "stream",
          "name": "stdout",
          "text": [
            "3.10.12 (main, Sep 11 2024, 15:47:36) [GCC 11.4.0]\n"
          ]
        }
      ]
    },
    {
      "cell_type": "code",
      "source": [
        "from google.colab import drive # google colab - drive bağlantisi\n",
        "\n",
        "drive.mount('/content/drive')"
      ],
      "metadata": {
        "colab": {
          "base_uri": "https://localhost:8080/"
        },
        "id": "O44jmvRcGG-6",
        "outputId": "a1584cd7-1ca3-4989-ccc6-7ca5611dcf81"
      },
      "execution_count": 3,
      "outputs": [
        {
          "output_type": "stream",
          "name": "stdout",
          "text": [
            "Mounted at /content/drive\n"
          ]
        }
      ]
    },
    {
      "cell_type": "code",
      "source": [
        "import os\n",
        "\n",
        "os.chdir('/content/drive/My Drive/YZIGU')\n",
        "\n",
        "!pwd # bize kodun ciktisini dosya yolu olarak veren kod blogudur."
      ],
      "metadata": {
        "colab": {
          "base_uri": "https://localhost:8080/"
        },
        "id": "S4SQWw0KHjbx",
        "outputId": "2e413c9b-31aa-447b-9089-fa1f534fa1d4"
      },
      "execution_count": 5,
      "outputs": [
        {
          "output_type": "stream",
          "name": "stdout",
          "text": [
            "/content/drive/My Drive/YZIGU\n"
          ]
        }
      ]
    }
  ]
}